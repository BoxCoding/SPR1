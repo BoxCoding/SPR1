{
 "cells": [
  {
   "cell_type": "markdown",
   "metadata": {
    "colab_type": "text",
    "id": "view-in-github"
   },
   "source": [
    "<a href=\"https://colab.research.google.com/github/prateekjoshi565/textrank_text_summarization/blob/master/TestRank_Text_Summarization.ipynb\" target=\"_parent\"><img src=\"https://colab.research.google.com/assets/colab-badge.svg\" alt=\"Open In Colab\"/></a>"
   ]
  },
  {
   "cell_type": "code",
   "execution_count": 1,
   "metadata": {
    "colab": {
     "base_uri": "https://localhost:8080/",
     "height": 54
    },
    "colab_type": "code",
    "id": "WeptlGXN2MnF",
    "outputId": "781281df-51c3-4729-fe6c-7c8401925582"
   },
   "outputs": [
    {
     "name": "stderr",
     "output_type": "stream",
     "text": [
      "[nltk_data] Downloading package punkt to\n",
      "[nltk_data]     C:\\Users\\visha\\AppData\\Roaming\\nltk_data...\n",
      "[nltk_data]   Package punkt is already up-to-date!\n"
     ]
    }
   ],
   "source": [
    "import numpy as np\n",
    "import pandas as pd\n",
    "import nltk\n",
    "from nltk.tokenize import sent_tokenize\n",
    "nltk.download('punkt') # one time execution\n",
    "import re"
   ]
  },
  {
   "cell_type": "code",
   "execution_count": 2,
   "metadata": {
    "colab": {},
    "colab_type": "code",
    "id": "_5FvQ9LHGtja"
   },
   "outputs": [],
   "source": [
    "# Read the CSV file\n",
    "path='D:/scrapping/textrank_text_summarization-master/'\n",
    "import io\n",
    "df = pd.read_csv(f'{path}ML_article.csv')"
   ]
  },
  {
   "cell_type": "code",
   "execution_count": 3,
   "metadata": {
    "colab": {
     "base_uri": "https://localhost:8080/",
     "height": 198
    },
    "colab_type": "code",
    "id": "hm6pa5Af4qbE",
    "outputId": "7bf41859-f291-44ae-a785-12cd486a53a1"
   },
   "outputs": [
    {
     "data": {
      "text/html": [
       "<div>\n",
       "<style scoped>\n",
       "    .dataframe tbody tr th:only-of-type {\n",
       "        vertical-align: middle;\n",
       "    }\n",
       "\n",
       "    .dataframe tbody tr th {\n",
       "        vertical-align: top;\n",
       "    }\n",
       "\n",
       "    .dataframe thead th {\n",
       "        text-align: right;\n",
       "    }\n",
       "</style>\n",
       "<table border=\"1\" class=\"dataframe\">\n",
       "  <thead>\n",
       "    <tr style=\"text-align: right;\">\n",
       "      <th></th>\n",
       "      <th>article_id</th>\n",
       "      <th>article_text</th>\n",
       "      <th>source</th>\n",
       "    </tr>\n",
       "  </thead>\n",
       "  <tbody>\n",
       "    <tr>\n",
       "      <th>0</th>\n",
       "      <td>1</td>\n",
       "      <td>I recently saw some good quality cloth bags gi...</td>\n",
       "      <td>https://www.quora.com/What-is-the-best-alterna...</td>\n",
       "    </tr>\n",
       "    <tr>\n",
       "      <th>1</th>\n",
       "      <td>2</td>\n",
       "      <td>Hey Girish, thanks for reaching me for another...</td>\n",
       "      <td>https://www.quora.com/What-is-the-best-alterna...</td>\n",
       "    </tr>\n",
       "    <tr>\n",
       "      <th>2</th>\n",
       "      <td>3</td>\n",
       "      <td>Before answering your question, here is bit of...</td>\n",
       "      <td>https://www.quora.com/What-is-the-best-alterna...</td>\n",
       "    </tr>\n",
       "    <tr>\n",
       "      <th>3</th>\n",
       "      <td>4</td>\n",
       "      <td>Try Jute bags. You can keep reusing it and it ...</td>\n",
       "      <td>https://www.quora.com/What-is-the-best-alterna...</td>\n",
       "    </tr>\n",
       "    <tr>\n",
       "      <th>4</th>\n",
       "      <td>5</td>\n",
       "      <td>Now a days, many people are preferring eco fri...</td>\n",
       "      <td>https://www.quora.com/What-is-the-best-alterna...</td>\n",
       "    </tr>\n",
       "  </tbody>\n",
       "</table>\n",
       "</div>"
      ],
      "text/plain": [
       "   article_id                                       article_text  \\\n",
       "0           1  I recently saw some good quality cloth bags gi...   \n",
       "1           2  Hey Girish, thanks for reaching me for another...   \n",
       "2           3  Before answering your question, here is bit of...   \n",
       "3           4  Try Jute bags. You can keep reusing it and it ...   \n",
       "4           5  Now a days, many people are preferring eco fri...   \n",
       "\n",
       "                                              source  \n",
       "0  https://www.quora.com/What-is-the-best-alterna...  \n",
       "1  https://www.quora.com/What-is-the-best-alterna...  \n",
       "2  https://www.quora.com/What-is-the-best-alterna...  \n",
       "3  https://www.quora.com/What-is-the-best-alterna...  \n",
       "4  https://www.quora.com/What-is-the-best-alterna...  "
      ]
     },
     "execution_count": 3,
     "metadata": {},
     "output_type": "execute_result"
    }
   ],
   "source": [
    "df.head()"
   ]
  },
  {
   "cell_type": "code",
   "execution_count": 4,
   "metadata": {
    "colab": {},
    "colab_type": "code",
    "id": "eZVoc3R6G9a8"
   },
   "outputs": [],
   "source": [
    "# split the the text in the articles into sentences\n",
    "sentences = []\n",
    "for s in df['article_text']:\n",
    "    sentences.append(sent_tokenize(s))  "
   ]
  },
  {
   "cell_type": "code",
   "execution_count": 5,
   "metadata": {
    "colab": {},
    "colab_type": "code",
    "id": "V_lwimHsHB9l"
   },
   "outputs": [],
   "source": [
    "# flatten the list\n",
    "sentences = [y for x in sentences for y in x]"
   ]
  },
  {
   "cell_type": "code",
   "execution_count": 6,
   "metadata": {
    "colab": {},
    "colab_type": "code",
    "id": "iHvW8lKFHV1x"
   },
   "outputs": [],
   "source": [
    "# remove punctuations, numbers and special characters\n",
    "clean_sentences = pd.Series(sentences).str.replace(\"[^a-zA-Z]\", \" \")\n",
    "\n",
    "# make alphabets lowercase\n",
    "clean_sentences = [s.lower() for s in clean_sentences]"
   ]
  },
  {
   "cell_type": "code",
   "execution_count": 7,
   "metadata": {
    "colab": {
     "base_uri": "https://localhost:8080/",
     "height": 72
    },
    "colab_type": "code",
    "id": "iPBZsdeWHlHf",
    "outputId": "80775577-1018-423b-9fc5-abfe52aebb88"
   },
   "outputs": [
    {
     "name": "stderr",
     "output_type": "stream",
     "text": [
      "[nltk_data] Downloading package stopwords to\n",
      "[nltk_data]     C:\\Users\\visha\\AppData\\Roaming\\nltk_data...\n",
      "[nltk_data]   Package stopwords is already up-to-date!\n"
     ]
    },
    {
     "data": {
      "text/plain": [
       "True"
      ]
     },
     "execution_count": 7,
     "metadata": {},
     "output_type": "execute_result"
    }
   ],
   "source": [
    "nltk.download('stopwords')# one time execution"
   ]
  },
  {
   "cell_type": "code",
   "execution_count": 8,
   "metadata": {
    "colab": {},
    "colab_type": "code",
    "id": "UKk_3HZ-Idjm"
   },
   "outputs": [],
   "source": [
    "from nltk.corpus import stopwords\n",
    "stop_words = stopwords.words('english')"
   ]
  },
  {
   "cell_type": "code",
   "execution_count": 9,
   "metadata": {
    "colab": {},
    "colab_type": "code",
    "id": "RX_NFApzIkmC"
   },
   "outputs": [],
   "source": [
    "# function to remove stopwords\n",
    "def remove_stopwords(sen):\n",
    "  sen_new = \" \".join([i for i in sen if i not in stop_words])\n",
    "  return sen_new"
   ]
  },
  {
   "cell_type": "code",
   "execution_count": 10,
   "metadata": {
    "colab": {},
    "colab_type": "code",
    "id": "OcFap_w9Ivob"
   },
   "outputs": [],
   "source": [
    "# remove stopwords from the sentences\n",
    "clean_sentences = [remove_stopwords(r.split()) for r in clean_sentences]"
   ]
  },
  {
   "cell_type": "code",
   "execution_count": 11,
   "metadata": {
    "colab": {
     "base_uri": "https://localhost:8080/",
     "height": 290
    },
    "colab_type": "code",
    "id": "a5Skjq6DJUtQ",
    "outputId": "eeba2eed-d0ed-42f8-f45f-dea8a99bcb5b"
   },
   "outputs": [],
   "source": [
    "# download pretrained GloVe word embeddings\n",
    "#! wget http://nlp.stanford.edu/data/glove.6B.zip"
   ]
  },
  {
   "cell_type": "code",
   "execution_count": 12,
   "metadata": {
    "colab": {
     "base_uri": "https://localhost:8080/",
     "height": 108
    },
    "colab_type": "code",
    "id": "K_GXHzwDJq-2",
    "outputId": "9387687a-04f5-41d9-f525-b6bca3b8f97c"
   },
   "outputs": [],
   "source": [
    "#! unzip glove*.zip"
   ]
  },
  {
   "cell_type": "code",
   "execution_count": 13,
   "metadata": {
    "colab": {},
    "colab_type": "code",
    "id": "TsXIa7CBKsWQ"
   },
   "outputs": [],
   "source": [
    "# Extract word vectors\n",
    "word_embeddings = {}\n",
    "f = open('glove.6B.300d.txt', encoding='utf-8')\n",
    "for line in f:\n",
    "    values = line.split()\n",
    "    word = values[0]\n",
    "    coefs = np.asarray(values[1:], dtype='float32')\n",
    "    word_embeddings[word] = coefs\n",
    "f.close()"
   ]
  },
  {
   "cell_type": "code",
   "execution_count": 14,
   "metadata": {
    "colab": {},
    "colab_type": "code",
    "id": "N3VtdSPyKxUZ"
   },
   "outputs": [],
   "source": [
    "sentence_vectors = []\n",
    "for i in clean_sentences:\n",
    "    if len(i) != 0:\n",
    "        v = sum([word_embeddings.get(w, np.zeros((300,))) for w in i.split()])/(len(i.split())+0.001)\n",
    "    else:\n",
    "        v = np.zeros((300,))\n",
    "    sentence_vectors.append(v)"
   ]
  },
  {
   "cell_type": "code",
   "execution_count": 15,
   "metadata": {
    "colab": {
     "base_uri": "https://localhost:8080/",
     "height": 35
    },
    "colab_type": "code",
    "id": "e3Iww3I9LYhJ",
    "outputId": "362a7dd8-b1bf-4478-ef59-34728fbbd8b2"
   },
   "outputs": [
    {
     "data": {
      "text/plain": [
       "118"
      ]
     },
     "execution_count": 15,
     "metadata": {},
     "output_type": "execute_result"
    }
   ],
   "source": [
    "len(sentence_vectors)"
   ]
  },
  {
   "cell_type": "markdown",
   "metadata": {
    "colab_type": "text",
    "id": "1bh9L2pqL3gp"
   },
   "source": [
    "The next step is to find similarities among the sentences. We will use cosine similarity to find similarity between a pair of sentences. Let's create an empty similarity matrix for this task and populate it with cosine similarities of the sentences."
   ]
  },
  {
   "cell_type": "code",
   "execution_count": 16,
   "metadata": {
    "colab": {},
    "colab_type": "code",
    "id": "mm_fNZpOLxbM"
   },
   "outputs": [],
   "source": [
    "# similarity matrix\n",
    "sim_mat = np.zeros([len(sentences), len(sentences)])"
   ]
  },
  {
   "cell_type": "code",
   "execution_count": 17,
   "metadata": {
    "colab": {},
    "colab_type": "code",
    "id": "oVeHkvf0MO1j"
   },
   "outputs": [],
   "source": [
    "from sklearn.metrics.pairwise import cosine_similarity"
   ]
  },
  {
   "cell_type": "code",
   "execution_count": 18,
   "metadata": {
    "colab": {},
    "colab_type": "code",
    "id": "xTAAe-q3L4xM"
   },
   "outputs": [],
   "source": [
    "for i in range(len(sentences)):\n",
    "    for j in range(len(sentences)):\n",
    "        \n",
    "        if i != j:\n",
    "            sim_mat[i][j] = cosine_similarity(sentence_vectors[i].reshape(1,300), sentence_vectors[j].reshape(1,300))[0,0]"
   ]
  },
  {
   "cell_type": "code",
   "execution_count": 19,
   "metadata": {
    "colab": {},
    "colab_type": "code",
    "id": "CAQUnNRWL_tA"
   },
   "outputs": [],
   "source": [
    "import networkx as nx\n",
    "\n",
    "nx_graph = nx.from_numpy_array(sim_mat)\n",
    "scores = nx.pagerank(nx_graph)"
   ]
  },
  {
   "cell_type": "code",
   "execution_count": 20,
   "metadata": {
    "colab": {},
    "colab_type": "code",
    "id": "aQCcvT3yO5Xj"
   },
   "outputs": [],
   "source": [
    "ranked_sentences = sorted(((scores[i],s) for i,s in enumerate(sentences)), reverse=True)"
   ]
  },
  {
   "cell_type": "code",
   "execution_count": 26,
   "metadata": {
    "colab": {
     "base_uri": "https://localhost:8080/",
     "height": 219
    },
    "colab_type": "code",
    "id": "jwxtPBlgO_Gk",
    "outputId": "94f7a32b-fcd3-4295-ec49-4fb69e49342e"
   },
   "outputs": [],
   "source": [
    "# Specify number of sentences to form the summary\n",
    "sn = 50\n",
    "\n",
    "# Generate summary\n",
    "matches=[]\n",
    "for i in range(sn):\n",
    "    matches.append(tool.check(ranked_sentences[i][1]))"
   ]
  },
  {
   "cell_type": "code",
   "execution_count": 23,
   "metadata": {},
   "outputs": [],
   "source": [
    "import language_check"
   ]
  },
  {
   "cell_type": "code",
   "execution_count": 24,
   "metadata": {},
   "outputs": [],
   "source": [
    "tool = language_check.LanguageTool('en-US')"
   ]
  },
  {
   "cell_type": "code",
   "execution_count": 27,
   "metadata": {},
   "outputs": [
    {
     "name": "stdout",
     "output_type": "stream",
     "text": [
      "This initiative of small steps to promote cloth bags is indeed great. There initiative helps woman to get there daily earnings and even to reduce pollution from earth. There cloth bags is not a conventional bag but is stylish and compact. This cloth bags serve the purpose of carrying things and it is best in look as well.\n",
      "Canvas bags Wholesale\n",
      "\n",
      "Custom canvas tote bags are very useful as promotional products because\n",
      "\n",
      "³ Canvas Tote bags are strongly inbuilt as these bags are made of woven cotton but they are also light these are very useful in everyday purpose we need to use they many uses\n",
      "\n",
      "³ Custom Canvas tote bags are made of woven cotton they are waterproof bags so they are best bags to carry in any weather conditions\n",
      "\n",
      "³ As the material canvas the print of your logo and design will be printed very high in quality and gives the bag good look and also people catch your logo very clearly thus you get more impressions and branding\n",
      "\n",
      "³ These bags have a very strong inbuilt as they are woven very closely they will last more than any other bags by 50% and also they don’t get damaged by washing them\n",
      "\n",
      "³ These bags are completely eco-friendly as they are made of cotton but it is a thick version of cotton used to make these bags they have can withhold more weight and pressure than normal eco-bags.\n",
      "See there are alternatives available in the market,but they are too not completely biodegradable and even if they are, they take time to decompose, so you need to understand this, even if you are using a plastic bag, or any bag to carry some material, don't make it a habit to use and throw, try using it as longs as you can.\n",
      "Before answering your question, here is bitten of why people generally prefer plastic bags:\n",
      "\n",
      "These bags provide an easy, cheap, convenient, lightweight yet strong way to carry food and other products.\n",
      "Therefore, ways have to be found out to replace plastic bags with cloth bags as cloth bags serve the same purpose as plastic bags and in turn doesn't create pollution. There are many reusable bags like paper bags that are in use in the market but paper bags have limited weight lifting capacity.\n",
      "For several years people have used reusable bags to carry their stuff and for several packaging needs but it all changed with the introduction to plastic.\n",
      "When we start using these bags, less plastic is sent to the landfills and thus less material takes up room in our environment for hundreds of years.\n",
      "Cloth bags are easy to carry but I have found out that sometimes people are finding it difficult to carry cloth bags as well. Therefore, cloth bags should be in such a way that people can easily fold it and then carry along with them. For example this way\n",
      "\n",
      "\n",
      "In this way there is knob given on the upper side where you can hang on any side of jeans or also kept in purse as well.when it is opened it looks like this.\n",
      "As you know reusable bags are in rage more than 50% of people started to change bags from plastic to reusable bags among these reusable bags there are many varieties but the most popular one are Canvas tote bags many people think the canvas is not an Eco product as they are woven but these bags are made of thick cotton material makes these bags strong.\n",
      "These bags can be used for years and help us in saving the consumption of 100s of plastic bags.\n",
      "These bags are Stylish and Sleek and come in various forms, colors and size capacity(8-14 kg),\n",
      "\n",
      "The only thing is these are bitten on the expensive side but due to the strength, these bags ultimately are a great buy for the long run.\n",
      "Also, certain stores provide paper bags, but those are not very strong, yet can be reused.\n",
      "When you suddenly want to shop, you can always make use of these bags.\n",
      "So the Parana Design team put their creativity energy to work and came up with a design solution to the environmental problem of plastic carrier bags: Small Steps cloth bag.\n",
      "Here are some examples of Eco friendly bags that are strong, easy and very cheap:\n",
      "\n",
      "Paper Bags\n",
      "These Bags are one of the best alternative to poly bags.\n",
      "Apart from being biodegradable, these bags are-\n",
      "\n",
      "Free from plastic(0% Plastic)\n",
      "Dissolves in water\n",
      "Completely free from toxic chemicals\n",
      "Suitable for electrical wrapping\n",
      "Dust repellent\n",
      "Corrosion resistance\n",
      "Oil resistance\n",
      "It will not only protect the environment, Sheath Hedge(The founder) also plans to use EnviGreen bags to support local farmers.\n",
      "You can use these bags if you are style conscious and don’t like carrying lot of bags with you everywhere.\n",
      "My mom and my wife both have always used a bag made of a cloth, instead of a plastic bag, to carry vegetables or other grocery products (we never ask for a plastic bag from any store).\n",
      "³ These customs canvas tote bags are also available in different types and sizes like bags are made in different thickness like heavy-duty canvas and normal canvas bags.\n",
      "It also has a hook, so that you can attach it anywhere you want saving you from the mess of carrying so many bags before you go for shopping.\n",
      "“We are also planning to distribute seeds to help them produce the amount of materials required to make the bags.”\n",
      "\n",
      "The pollution in the oceans will be less.\n",
      "Now all of them are cheap, strong and easy to carry, but disposal technique for any carrying material should be considered carefully, firstly make the complete use of material and use it until it loses its property to carry something.\n",
      "“Small-steps” makes such cloth bags for shopping purposes.\n",
      "Like this paper bags have limited capacity.\n",
      "You can take a look at the test results here-\n",
      "\n",
      "“ Test & CertificationsEnviGreen\n",
      "\n",
      "You might think this bag can't replace all the types of plastic bags, but guess what?\n",
      "The answer is ENVI BAGS\n",
      "\n",
      "They look like plastic bags but are made of materials like natural starch and vegetable oil derivatives.\n",
      "First step would be reducing the use of bags wherever not necessary.\n",
      "Wrapping it up\n",
      "\n",
      "Tote bags are the best happening bags in the present generation and taking these canvas tote bags help your business more attention and popularity.\n",
      "Among these paper bags are cheap and easy to maintain but can easily tear off.\n",
      "PAPER BAGS\n",
      "\n",
      "\n",
      "JUTE BAGS\n",
      "\n",
      "\n",
      "I appreciate your thoughts of promoting Eco-friendly environment and to help you in this I would suggest you to visit the website of NGO called Prayers Corps, wherein they create awareness among people about the usage of polythene bags, which is hazardous, as a part of their environment initiative\n",
      "Thousands trees are cut every year to manufacture paper thus making them not the best option.\n",
      "There have been situations though when we got plastic bags from online orders or from some stores.\n",
      "Here are some alternatives:\n",
      "\n",
      "Paper Grocery bags\n",
      "\n",
      "These are lightweight, easy to carry, small capacity (2-5 kg generally) and cheaper.\n",
      "By opting for environment friendly bags, one can have many benefits, namely:\n",
      "\n",
      "These are completely biodegradable.\n",
      "It can take as long as 1000 years for one plastic bag to biodegrade.\n",
      "Now, if you want to know about some cool innovation regarding bags, then let me tell you that there are bags coming which can dispose off by itself.\n",
      "As the name suggest these bags are made from paper.\n",
      "The other alternative is using paper bags.\n",
      "Coming to Canvas tote bags they are made lighter and as this material is cotton they are also eco-friendly.\n",
      "Paper bags are use and throw.\n",
      "Nowadays, many people are preferring Eco friendly bags as compared to poly bags.\n",
      "Another alternative is carrying cloth bags. The cloth bags are reusable and environment friendly.\n",
      "³ If you buy Canvas tote bags wholesale you will save a lot of money as they are very low in cost and if you buy them in bulk they cost you less money.\n",
      "Several animals in one way or the other consume plastic unknowingly clogging their body parts and ultimately leading to death.\n",
      "The alternatives that you can use is jute bags, or the starch made bags, or even there are bags made with the help of vegetable oils, canvas bags, cotton bags, etc.\n",
      "I recently saw some good quality cloth bags given by Max showroom, shocked to see its strength . Too reliable.\n",
      "If you are looking for an alternative of poly-bags, it also takes a SmallStep.\n",
      "³ And these are long lasting, reusable, Washable, requires less space, easy to carry Etc., makes them more lovable bags and more sensible gift for your customer.\n",
      "³ Investing money in buying Canvas bags Wholesale not only save you money but by handing these out on trade shows and fairs in large number give us large brand promotions as well.\n",
      "These bags take less than 180 days to biodegrade naturally once discarded.\n"
     ]
    }
   ],
   "source": [
    "for i in range(sn):\n",
    "    print(language_check.correct(ranked_sentences[i][1], matches[i]))\n",
    "    "
   ]
  },
  {
   "cell_type": "code",
   "execution_count": null,
   "metadata": {},
   "outputs": [],
   "source": []
  }
 ],
 "metadata": {
  "accelerator": "GPU",
  "colab": {
   "collapsed_sections": [],
   "include_colab_link": true,
   "name": "TestRank_Text_Summarization.ipynb",
   "provenance": [],
   "version": "0.3.2"
  },
  "kernelspec": {
   "display_name": "Python 3",
   "language": "python",
   "name": "python3"
  },
  "language_info": {
   "codemirror_mode": {
    "name": "ipython",
    "version": 3
   },
   "file_extension": ".py",
   "mimetype": "text/x-python",
   "name": "python",
   "nbconvert_exporter": "python",
   "pygments_lexer": "ipython3",
   "version": "3.7.3"
  }
 },
 "nbformat": 4,
 "nbformat_minor": 1
}
